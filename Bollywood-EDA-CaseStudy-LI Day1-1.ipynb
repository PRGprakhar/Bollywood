{
 "cells": [
  {
   "cell_type": "markdown",
   "id": "29548e40",
   "metadata": {},
   "source": [
    "<span style=\"font-family: Arial; font-weight:bold;font-size:1.5em;color:#0ab6fa\">Problem Statement:-"
   ]
  },
  {
   "cell_type": "markdown",
   "id": "a3f8c238",
   "metadata": {},
   "source": [
    "**The data file contains box office collection and social media promotion information about movies released between 2013-2015 period. We have to study the data and make meaningful inferences and plots.**\n"
   ]
  },
  {
   "cell_type": "markdown",
   "id": "94894961",
   "metadata": {},
   "source": [
    "<span style=\"font-family: Arial; font-weight:bold;font-size:1.5em;color:#0ab6fa\">Attribute Information:"
   ]
  },
  {
   "cell_type": "markdown",
   "id": "82ad7161",
   "metadata": {},
   "source": [
    "| Column Name|Description|\n",
    "|------------|-----------|\n",
    "| SlNo.| Release Date|\n",
    "| MovieName|  Name of the Movie\n",
    "| ReleaseTime | Mentions special time of release. LW (Long Weekend), FS(Festive Season), HS(HolidaySeason),N(Normal).|\n",
    "| Genre|Genre of the film, Romance, Thriller, Action, Comedy,Etc. |\n",
    "| Budget|Movie Creation Budget|\n",
    "| BoxOfficeCollection| Box Office Collection|\n",
    "|Youtube Views|Number of Views of the Youtube trailers |\n",
    "|Youtube Likes|Number of Likes of the Youtube trailers |\n",
    "|Youtube Dislikes|Number of Dislikes of the Youtube trailers |"
   ]
  },
  {
   "cell_type": "markdown",
   "id": "d48d1c17",
   "metadata": {},
   "source": [
    "<span style=\"font-family: Arial; font-weight:bold;font-size:1.5em;color:#0ab6fa\">1.Let's start with understanding the data set\n",
    "\n",
    "    - How many records are present in the dataset?\n",
    "    - Check the info. Make inferences about the data types\n",
    "    - Calculate the five point summary. Write your observation\n",
    "    - Are there any missing values?\n",
    "    - What all variables are skewed or outliers are present?\n",
    "    - Tranform the YoutubeDislikes with Log, sqrt,cube and boxcox, visualize the difference\n",
    "    - Creat dummies for Genre Variable\n",
    "   \n",
    "    "
   ]
  },
  {
   "cell_type": "code",
   "execution_count": 3,
   "id": "d41a954f",
   "metadata": {},
   "outputs": [],
   "source": [
    "# import the libraries\n",
    "import numpy as np\n",
    "import pandas as pd\n",
    "import matplotlib.pyplot as plt\n",
    "%matplotlib inline\n",
    "import seaborn as sns"
   ]
  },
  {
   "cell_type": "code",
   "execution_count": 5,
   "id": "a64826ab",
   "metadata": {},
   "outputs": [],
   "source": [
    "df= pd.read_excel(\"bollywood.xlsx\") # use read_excel"
   ]
  },
  {
   "cell_type": "code",
   "execution_count": 6,
   "id": "2461334e",
   "metadata": {},
   "outputs": [
    {
     "data": {
      "text/html": [
       "<div>\n",
       "<style scoped>\n",
       "    .dataframe tbody tr th:only-of-type {\n",
       "        vertical-align: middle;\n",
       "    }\n",
       "\n",
       "    .dataframe tbody tr th {\n",
       "        vertical-align: top;\n",
       "    }\n",
       "\n",
       "    .dataframe thead th {\n",
       "        text-align: right;\n",
       "    }\n",
       "</style>\n",
       "<table border=\"1\" class=\"dataframe\">\n",
       "  <thead>\n",
       "    <tr style=\"text-align: right;\">\n",
       "      <th></th>\n",
       "      <th>SlNo</th>\n",
       "      <th>Release Date</th>\n",
       "      <th>MovieName</th>\n",
       "      <th>ReleaseTime</th>\n",
       "      <th>Genre</th>\n",
       "      <th>Budget</th>\n",
       "      <th>BoxOfficeCollection</th>\n",
       "      <th>YoutubeViews</th>\n",
       "      <th>YoutubeLikes</th>\n",
       "      <th>YoutubeDislikes</th>\n",
       "    </tr>\n",
       "  </thead>\n",
       "  <tbody>\n",
       "    <tr>\n",
       "      <th>0</th>\n",
       "      <td>1</td>\n",
       "      <td>2014-04-18</td>\n",
       "      <td>2 States</td>\n",
       "      <td>LW</td>\n",
       "      <td>Romance</td>\n",
       "      <td>36</td>\n",
       "      <td>104.00</td>\n",
       "      <td>8576361</td>\n",
       "      <td>26622</td>\n",
       "      <td>2527</td>\n",
       "    </tr>\n",
       "    <tr>\n",
       "      <th>1</th>\n",
       "      <td>2</td>\n",
       "      <td>2013-01-04</td>\n",
       "      <td>Table No. 21</td>\n",
       "      <td>N</td>\n",
       "      <td>Thriller</td>\n",
       "      <td>10</td>\n",
       "      <td>12.00</td>\n",
       "      <td>1087320</td>\n",
       "      <td>1129</td>\n",
       "      <td>137</td>\n",
       "    </tr>\n",
       "    <tr>\n",
       "      <th>2</th>\n",
       "      <td>3</td>\n",
       "      <td>2014-07-18</td>\n",
       "      <td>Amit Sahni Ki List</td>\n",
       "      <td>N</td>\n",
       "      <td>Comedy</td>\n",
       "      <td>10</td>\n",
       "      <td>4.00</td>\n",
       "      <td>572336</td>\n",
       "      <td>586</td>\n",
       "      <td>54</td>\n",
       "    </tr>\n",
       "    <tr>\n",
       "      <th>3</th>\n",
       "      <td>4</td>\n",
       "      <td>2013-01-04</td>\n",
       "      <td>Rajdhani Express</td>\n",
       "      <td>N</td>\n",
       "      <td>Drama</td>\n",
       "      <td>7</td>\n",
       "      <td>0.35</td>\n",
       "      <td>42626</td>\n",
       "      <td>86</td>\n",
       "      <td>19</td>\n",
       "    </tr>\n",
       "    <tr>\n",
       "      <th>4</th>\n",
       "      <td>5</td>\n",
       "      <td>2014-07-04</td>\n",
       "      <td>Bobby Jasoos</td>\n",
       "      <td>N</td>\n",
       "      <td>Comedy</td>\n",
       "      <td>18</td>\n",
       "      <td>10.80</td>\n",
       "      <td>3113427</td>\n",
       "      <td>4512</td>\n",
       "      <td>1224</td>\n",
       "    </tr>\n",
       "  </tbody>\n",
       "</table>\n",
       "</div>"
      ],
      "text/plain": [
       "   SlNo Release Date           MovieName ReleaseTime      Genre  Budget  \\\n",
       "0     1   2014-04-18            2 States          LW    Romance      36   \n",
       "1     2   2013-01-04        Table No. 21           N  Thriller       10   \n",
       "2     3   2014-07-18  Amit Sahni Ki List           N     Comedy      10   \n",
       "3     4   2013-01-04    Rajdhani Express           N     Drama        7   \n",
       "4     5   2014-07-04        Bobby Jasoos           N     Comedy      18   \n",
       "\n",
       "   BoxOfficeCollection  YoutubeViews  YoutubeLikes  YoutubeDislikes  \n",
       "0               104.00       8576361         26622             2527  \n",
       "1                12.00       1087320          1129              137  \n",
       "2                 4.00        572336           586               54  \n",
       "3                 0.35         42626            86               19  \n",
       "4                10.80       3113427          4512             1224  "
      ]
     },
     "execution_count": 6,
     "metadata": {},
     "output_type": "execute_result"
    }
   ],
   "source": [
    "df.head()"
   ]
  },
  {
   "cell_type": "code",
   "execution_count": 6,
   "id": "f47b5487",
   "metadata": {},
   "outputs": [
    {
     "name": "stdout",
     "output_type": "stream",
     "text": [
      "total number of rows:  149\n",
      "total number of cols:  10\n"
     ]
    }
   ],
   "source": [
    "print(\"total number of rows: \", df.shape[0])\n",
    "print(\"total number of cols: \", df.shape[1])"
   ]
  },
  {
   "cell_type": "code",
   "execution_count": 7,
   "id": "393fb066",
   "metadata": {},
   "outputs": [
    {
     "name": "stdout",
     "output_type": "stream",
     "text": [
      "<class 'pandas.core.frame.DataFrame'>\n",
      "RangeIndex: 149 entries, 0 to 148\n",
      "Data columns (total 10 columns):\n",
      " #   Column               Non-Null Count  Dtype         \n",
      "---  ------               --------------  -----         \n",
      " 0   SlNo                 149 non-null    int64         \n",
      " 1   Release Date         149 non-null    datetime64[ns]\n",
      " 2   MovieName            149 non-null    object        \n",
      " 3   ReleaseTime          149 non-null    object        \n",
      " 4   Genre                149 non-null    object        \n",
      " 5   Budget               149 non-null    int64         \n",
      " 6   BoxOfficeCollection  149 non-null    float64       \n",
      " 7   YoutubeViews         149 non-null    int64         \n",
      " 8   YoutubeLikes         149 non-null    int64         \n",
      " 9   YoutubeDislikes      149 non-null    int64         \n",
      "dtypes: datetime64[ns](1), float64(1), int64(5), object(3)\n",
      "memory usage: 11.8+ KB\n"
     ]
    }
   ],
   "source": [
    "df.info()"
   ]
  },
  {
   "cell_type": "code",
   "execution_count": null,
   "id": "aa483880",
   "metadata": {},
   "outputs": [],
   "source": [
    "# no missing values\n",
    "# there date time variable\n",
    "# Three categorical variables\n",
    "# there are 6 numerical variables "
   ]
  },
  {
   "cell_type": "code",
   "execution_count": 11,
   "id": "799a58ee",
   "metadata": {},
   "outputs": [
    {
     "data": {
      "text/html": [
       "<div>\n",
       "<style scoped>\n",
       "    .dataframe tbody tr th:only-of-type {\n",
       "        vertical-align: middle;\n",
       "    }\n",
       "\n",
       "    .dataframe tbody tr th {\n",
       "        vertical-align: top;\n",
       "    }\n",
       "\n",
       "    .dataframe thead th {\n",
       "        text-align: right;\n",
       "    }\n",
       "</style>\n",
       "<table border=\"1\" class=\"dataframe\">\n",
       "  <thead>\n",
       "    <tr style=\"text-align: right;\">\n",
       "      <th></th>\n",
       "      <th>count</th>\n",
       "      <th>mean</th>\n",
       "      <th>std</th>\n",
       "      <th>min</th>\n",
       "      <th>25%</th>\n",
       "      <th>50%</th>\n",
       "      <th>75%</th>\n",
       "      <th>max</th>\n",
       "    </tr>\n",
       "  </thead>\n",
       "  <tbody>\n",
       "    <tr>\n",
       "      <th>SlNo</th>\n",
       "      <td>149.0</td>\n",
       "      <td>75.00</td>\n",
       "      <td>43.16</td>\n",
       "      <td>1.00</td>\n",
       "      <td>38.00</td>\n",
       "      <td>75.0</td>\n",
       "      <td>112.00</td>\n",
       "      <td>149.0</td>\n",
       "    </tr>\n",
       "    <tr>\n",
       "      <th>Budget</th>\n",
       "      <td>149.0</td>\n",
       "      <td>29.44</td>\n",
       "      <td>28.24</td>\n",
       "      <td>2.00</td>\n",
       "      <td>11.00</td>\n",
       "      <td>21.0</td>\n",
       "      <td>35.00</td>\n",
       "      <td>150.0</td>\n",
       "    </tr>\n",
       "    <tr>\n",
       "      <th>BoxOfficeCollection</th>\n",
       "      <td>149.0</td>\n",
       "      <td>55.67</td>\n",
       "      <td>94.49</td>\n",
       "      <td>0.01</td>\n",
       "      <td>8.78</td>\n",
       "      <td>28.0</td>\n",
       "      <td>57.45</td>\n",
       "      <td>735.0</td>\n",
       "    </tr>\n",
       "    <tr>\n",
       "      <th>YoutubeViews</th>\n",
       "      <td>149.0</td>\n",
       "      <td>3337919.91</td>\n",
       "      <td>3504406.99</td>\n",
       "      <td>4354.00</td>\n",
       "      <td>1076591.00</td>\n",
       "      <td>2375050.0</td>\n",
       "      <td>4550051.00</td>\n",
       "      <td>23171067.0</td>\n",
       "    </tr>\n",
       "    <tr>\n",
       "      <th>YoutubeLikes</th>\n",
       "      <td>149.0</td>\n",
       "      <td>7877.54</td>\n",
       "      <td>12748.05</td>\n",
       "      <td>1.00</td>\n",
       "      <td>1377.00</td>\n",
       "      <td>4111.0</td>\n",
       "      <td>9100.00</td>\n",
       "      <td>101275.0</td>\n",
       "    </tr>\n",
       "    <tr>\n",
       "      <th>YoutubeDislikes</th>\n",
       "      <td>149.0</td>\n",
       "      <td>1207.82</td>\n",
       "      <td>1852.69</td>\n",
       "      <td>1.00</td>\n",
       "      <td>189.00</td>\n",
       "      <td>614.0</td>\n",
       "      <td>1419.00</td>\n",
       "      <td>11888.0</td>\n",
       "    </tr>\n",
       "  </tbody>\n",
       "</table>\n",
       "</div>"
      ],
      "text/plain": [
       "                     count        mean         std      min         25%  \\\n",
       "SlNo                 149.0       75.00       43.16     1.00       38.00   \n",
       "Budget               149.0       29.44       28.24     2.00       11.00   \n",
       "BoxOfficeCollection  149.0       55.67       94.49     0.01        8.78   \n",
       "YoutubeViews         149.0  3337919.91  3504406.99  4354.00  1076591.00   \n",
       "YoutubeLikes         149.0     7877.54    12748.05     1.00     1377.00   \n",
       "YoutubeDislikes      149.0     1207.82     1852.69     1.00      189.00   \n",
       "\n",
       "                           50%         75%         max  \n",
       "SlNo                      75.0      112.00       149.0  \n",
       "Budget                    21.0       35.00       150.0  \n",
       "BoxOfficeCollection       28.0       57.45       735.0  \n",
       "YoutubeViews         2375050.0  4550051.00  23171067.0  \n",
       "YoutubeLikes            4111.0     9100.00    101275.0  \n",
       "YoutubeDislikes          614.0     1419.00     11888.0  "
      ]
     },
     "execution_count": 11,
     "metadata": {},
     "output_type": "execute_result"
    }
   ],
   "source": [
    "#five point summary\n",
    "round(df.describe().T,2) #.T is used to transpose"
   ]
  },
  {
   "cell_type": "code",
   "execution_count": null,
   "id": "931b7805",
   "metadata": {},
   "outputs": [],
   "source": [
    "# Counts to number of filled rows\n",
    "# 50% movies budget are less or equal to 21 crores, with the max budget ranging upto 150 cr.\n",
    "# Max boxoffice collection done by a movie ranges upto 735 cr.\n",
    "# The Minimum views for a movie is not less than 4400 views approx. or 4354 views precisely; with an average views rangning to 33L approx.\n",
    "# The movies are having more Likes than Dislikes."
   ]
  },
  {
   "cell_type": "code",
   "execution_count": 12,
   "id": "014f76af",
   "metadata": {},
   "outputs": [
    {
     "name": "stderr",
     "output_type": "stream",
     "text": [
      "C:\\Users\\ANUPAM~1\\AppData\\Local\\Temp/ipykernel_13284/4086952035.py:2: FutureWarning: Dropping of nuisance columns in DataFrame reductions (with 'numeric_only=None') is deprecated; in a future version this will raise TypeError.  Select only valid columns before calling the reduction.\n",
      "  df.skew()\n"
     ]
    },
    {
     "data": {
      "text/plain": [
       "SlNo                   0.000000\n",
       "Budget                 2.059560\n",
       "BoxOfficeCollection    3.980880\n",
       "YoutubeViews           2.667002\n",
       "YoutubeLikes           4.391138\n",
       "YoutubeDislikes        3.534963\n",
       "dtype: float64"
      ]
     },
     "execution_count": 12,
     "metadata": {},
     "output_type": "execute_result"
    }
   ],
   "source": [
    "# skewness\n",
    "df.skew()"
   ]
  },
  {
   "cell_type": "code",
   "execution_count": 16,
   "id": "64899626",
   "metadata": {},
   "outputs": [
    {
     "data": {
      "text/plain": [
       "array([[<AxesSubplot:title={'center':'Budget'}>,\n",
       "        <AxesSubplot:title={'center':'BoxOfficeCollection'}>],\n",
       "       [<AxesSubplot:title={'center':'YoutubeViews'}>,\n",
       "        <AxesSubplot:title={'center':'YoutubeLikes'}>],\n",
       "       [<AxesSubplot:title={'center':'YoutubeDislikes'}>, <AxesSubplot:>]],\n",
       "      dtype=object)"
      ]
     },
     "execution_count": 16,
     "metadata": {},
     "output_type": "execute_result"
    },
    {
     "data": {
      "image/png": "[encoded data removed]",
      "text/plain": [
       "<Figure size 1224x576 with 6 Axes>"
      ]
     },
     "metadata": {
      "needs_background": "light"
     },
     "output_type": "display_data"
    }
   ],
   "source": [
    "#hist\n",
    "df.iloc[:,2:].hist()"
   ]
  },
  {
   "cell_type": "code",
   "execution_count": 14,
   "id": "0ec56fb6",
   "metadata": {},
   "outputs": [
    {
     "data": {
      "image/png": "[encoded data removed]",
      "text/plain": [
       "<Figure size 1224x576 with 6 Axes>"
      ]
     },
     "metadata": {
      "needs_background": "light"
     },
     "output_type": "display_data"
    }
   ],
   "source": [
    "#density plots\n",
    "plt.rcParams[\"figure.figsize\"]=[17,8]\n",
    "df.iloc[:,2:].plot(kind='density',subplots= True, layout=(2,3), sharex=False)\n",
    "plt.tight_layout()\n",
    "plt.show()"
   ]
  },
  {
   "cell_type": "code",
   "execution_count": 20,
   "id": "7a470771",
   "metadata": {},
   "outputs": [
    {
     "data": {
      "text/plain": [
       "<AxesSubplot:>"
      ]
     },
     "execution_count": 20,
     "metadata": {},
     "output_type": "execute_result"
    },
    {
     "data": {
      "image/png": "[encoded data removed]",
      "text/plain": [
       "<Figure size 1224x576 with 1 Axes>"
      ]
     },
     "metadata": {
      "needs_background": "light"
     },
     "output_type": "display_data"
    }
   ],
   "source": [
    "df.boxplot()"
   ]
  },
  {
   "cell_type": "code",
   "execution_count": 19,
   "id": "6f82969c",
   "metadata": {},
   "outputs": [
    {
     "data": {
      "text/plain": [
       "<AxesSubplot:>"
      ]
     },
     "execution_count": 19,
     "metadata": {},
     "output_type": "execute_result"
    },
    {
     "data": {
      "image/png": "[encoded data removed]",
      "text/plain": [
       "<Figure size 1224x576 with 1 Axes>"
      ]
     },
     "metadata": {
      "needs_background": "light"
     },
     "output_type": "display_data"
    }
   ],
   "source": [
    "df['Budget'].plot(kind='box')"
   ]
  },
  {
   "cell_type": "code",
   "execution_count": 21,
   "id": "b3c12d79",
   "metadata": {},
   "outputs": [
    {
     "name": "stderr",
     "output_type": "stream",
     "text": [
      "C:\\Users\\ANUPAM~1\\AppData\\Local\\Temp/ipykernel_13284/1257127604.py:1: FutureWarning: Dropping of nuisance columns in DataFrame reductions (with 'numeric_only=None') is deprecated; in a future version this will raise TypeError.  Select only valid columns before calling the reduction.\n",
      "  df.kurt()\n"
     ]
    },
    {
     "data": {
      "text/plain": [
       "SlNo                   -1.200000\n",
       "Budget                  4.605858\n",
       "BoxOfficeCollection    20.549134\n",
       "YoutubeViews            9.937728\n",
       "YoutubeLikes           24.857818\n",
       "YoutubeDislikes        14.740560\n",
       "dtype: float64"
      ]
     },
     "execution_count": 21,
     "metadata": {},
     "output_type": "execute_result"
    }
   ],
   "source": [
    "df.kurt()"
   ]
  },
  {
   "cell_type": "code",
   "execution_count": null,
   "id": "7c6ac533",
   "metadata": {},
   "outputs": [],
   "source": [
    "# from density plots, histgrams, kurtosis and skewness metric- numeric data columns turn out to be positive skewed."
   ]
  },
  {
   "cell_type": "code",
   "execution_count": null,
   "id": "92b89c75",
   "metadata": {},
   "outputs": [],
   "source": []
  },
  {
   "cell_type": "markdown",
   "id": "8649964c",
   "metadata": {},
   "source": [
    "<span style=\"font-family: Arial; font-weight:bold;font-size:1.5em;color:#0ab6fa\">2.Exploratory Data Analysis\n",
    "    \n",
    "    \n",
    "    A. How many movies got released in each genre? Which genre had the highest number of release?\n",
    "    B. Which Month of the year maximum number of movie releases are seen?\n",
    "    C. Can we find out correlation in some of the variables?\n",
    "    D. Which genre of movies typically sees more You Tube Likes?"
   ]
  },
  {
   "cell_type": "code",
   "execution_count": 7,
   "id": "3748487c",
   "metadata": {},
   "outputs": [
    {
     "data": {
      "text/plain": [
       "array(['Romance', 'Thriller ', 'Comedy', ' Drama ', 'Action ', 'Action',\n",
       "       'Thriller'], dtype=object)"
      ]
     },
     "execution_count": 7,
     "metadata": {},
     "output_type": "execute_result"
    }
   ],
   "source": [
    "df.Genre.unique()"
   ]
  },
  {
   "cell_type": "code",
   "execution_count": 24,
   "id": "92d44924",
   "metadata": {},
   "outputs": [],
   "source": [
    "df['Genre']= df['Genre'].str.replace('Action ','Action')"
   ]
  },
  {
   "cell_type": "code",
   "execution_count": 25,
   "id": "2174f301",
   "metadata": {},
   "outputs": [],
   "source": [
    "df['Genre']= df['Genre'].str.replace('Thriller ','Thriller')"
   ]
  },
  {
   "cell_type": "code",
   "execution_count": 10,
   "id": "405522ca",
   "metadata": {},
   "outputs": [],
   "source": [
    "df['Genre']= df['Genre'].replace({'Thriller ': 'Thriller','Action ': 'Action'}, regex=True)"
   ]
  },
  {
   "cell_type": "code",
   "execution_count": 11,
   "id": "5eb00a58",
   "metadata": {},
   "outputs": [
    {
     "data": {
      "text/plain": [
       "Comedy      36\n",
       " Drama      35\n",
       "Thriller    29\n",
       "Romance     25\n",
       "Action      24\n",
       "Name: Genre, dtype: int64"
      ]
     },
     "execution_count": 11,
     "metadata": {},
     "output_type": "execute_result"
    }
   ],
   "source": [
    "df['Genre'].value_counts()"
   ]
  },
  {
   "cell_type": "code",
   "execution_count": 12,
   "id": "435a7824",
   "metadata": {},
   "outputs": [
    {
     "data": {
      "text/plain": [
       "Index(['SlNo', 'Release Date', 'MovieName', 'ReleaseTime', 'Genre', 'Budget',\n",
       "       'BoxOfficeCollection', 'YoutubeViews', 'YoutubeLikes',\n",
       "       'YoutubeDislikes'],\n",
       "      dtype='object')"
      ]
     },
     "execution_count": 12,
     "metadata": {},
     "output_type": "execute_result"
    }
   ],
   "source": [
    "df.columns"
   ]
  },
  {
   "cell_type": "code",
   "execution_count": 16,
   "id": "e2f6a843",
   "metadata": {},
   "outputs": [],
   "source": [
    "#b. \n",
    "df['Month_Name']= pd.to_datetime(df['Release Date']).dt.month_name()\n",
    "df['Year']= pd.to_datetime(df['Release Date']).dt.year"
   ]
  },
  {
   "cell_type": "code",
   "execution_count": 19,
   "id": "18255398",
   "metadata": {},
   "outputs": [
    {
     "name": "stdout",
     "output_type": "stream",
     "text": [
      "<class 'pandas.core.frame.DataFrame'>\n",
      "RangeIndex: 149 entries, 0 to 148\n",
      "Data columns (total 12 columns):\n",
      " #   Column               Non-Null Count  Dtype         \n",
      "---  ------               --------------  -----         \n",
      " 0   SlNo                 149 non-null    int64         \n",
      " 1   Release Date         149 non-null    datetime64[ns]\n",
      " 2   MovieName            149 non-null    object        \n",
      " 3   ReleaseTime          149 non-null    object        \n",
      " 4   Genre                149 non-null    object        \n",
      " 5   Budget               149 non-null    int64         \n",
      " 6   BoxOfficeCollection  149 non-null    float64       \n",
      " 7   YoutubeViews         149 non-null    int64         \n",
      " 8   YoutubeLikes         149 non-null    int64         \n",
      " 9   YoutubeDislikes      149 non-null    int64         \n",
      " 10  Month_Name           149 non-null    object        \n",
      " 11  Year                 149 non-null    int64         \n",
      "dtypes: datetime64[ns](1), float64(1), int64(6), object(4)\n",
      "memory usage: 14.1+ KB\n"
     ]
    }
   ],
   "source": [
    "df.info()"
   ]
  },
  {
   "cell_type": "code",
   "execution_count": 18,
   "id": "ba981c61",
   "metadata": {},
   "outputs": [
    {
     "data": {
      "text/html": [
       "<div>\n",
       "<style scoped>\n",
       "    .dataframe tbody tr th:only-of-type {\n",
       "        vertical-align: middle;\n",
       "    }\n",
       "\n",
       "    .dataframe tbody tr th {\n",
       "        vertical-align: top;\n",
       "    }\n",
       "\n",
       "    .dataframe thead th {\n",
       "        text-align: right;\n",
       "    }\n",
       "</style>\n",
       "<table border=\"1\" class=\"dataframe\">\n",
       "  <thead>\n",
       "    <tr style=\"text-align: right;\">\n",
       "      <th></th>\n",
       "      <th>SlNo</th>\n",
       "      <th>Release Date</th>\n",
       "      <th>MovieName</th>\n",
       "      <th>ReleaseTime</th>\n",
       "      <th>Genre</th>\n",
       "      <th>Budget</th>\n",
       "      <th>BoxOfficeCollection</th>\n",
       "      <th>YoutubeViews</th>\n",
       "      <th>YoutubeLikes</th>\n",
       "      <th>YoutubeDislikes</th>\n",
       "      <th>Month_Name</th>\n",
       "      <th>Year</th>\n",
       "    </tr>\n",
       "  </thead>\n",
       "  <tbody>\n",
       "    <tr>\n",
       "      <th>0</th>\n",
       "      <td>1</td>\n",
       "      <td>2014-04-18</td>\n",
       "      <td>2 States</td>\n",
       "      <td>LW</td>\n",
       "      <td>Romance</td>\n",
       "      <td>36</td>\n",
       "      <td>104.00</td>\n",
       "      <td>8576361</td>\n",
       "      <td>26622</td>\n",
       "      <td>2527</td>\n",
       "      <td>April</td>\n",
       "      <td>2014</td>\n",
       "    </tr>\n",
       "    <tr>\n",
       "      <th>1</th>\n",
       "      <td>2</td>\n",
       "      <td>2013-01-04</td>\n",
       "      <td>Table No. 21</td>\n",
       "      <td>N</td>\n",
       "      <td>Thriller</td>\n",
       "      <td>10</td>\n",
       "      <td>12.00</td>\n",
       "      <td>1087320</td>\n",
       "      <td>1129</td>\n",
       "      <td>137</td>\n",
       "      <td>January</td>\n",
       "      <td>2013</td>\n",
       "    </tr>\n",
       "    <tr>\n",
       "      <th>2</th>\n",
       "      <td>3</td>\n",
       "      <td>2014-07-18</td>\n",
       "      <td>Amit Sahni Ki List</td>\n",
       "      <td>N</td>\n",
       "      <td>Comedy</td>\n",
       "      <td>10</td>\n",
       "      <td>4.00</td>\n",
       "      <td>572336</td>\n",
       "      <td>586</td>\n",
       "      <td>54</td>\n",
       "      <td>July</td>\n",
       "      <td>2014</td>\n",
       "    </tr>\n",
       "    <tr>\n",
       "      <th>3</th>\n",
       "      <td>4</td>\n",
       "      <td>2013-01-04</td>\n",
       "      <td>Rajdhani Express</td>\n",
       "      <td>N</td>\n",
       "      <td>Drama</td>\n",
       "      <td>7</td>\n",
       "      <td>0.35</td>\n",
       "      <td>42626</td>\n",
       "      <td>86</td>\n",
       "      <td>19</td>\n",
       "      <td>January</td>\n",
       "      <td>2013</td>\n",
       "    </tr>\n",
       "    <tr>\n",
       "      <th>4</th>\n",
       "      <td>5</td>\n",
       "      <td>2014-07-04</td>\n",
       "      <td>Bobby Jasoos</td>\n",
       "      <td>N</td>\n",
       "      <td>Comedy</td>\n",
       "      <td>18</td>\n",
       "      <td>10.80</td>\n",
       "      <td>3113427</td>\n",
       "      <td>4512</td>\n",
       "      <td>1224</td>\n",
       "      <td>July</td>\n",
       "      <td>2014</td>\n",
       "    </tr>\n",
       "  </tbody>\n",
       "</table>\n",
       "</div>"
      ],
      "text/plain": [
       "   SlNo Release Date           MovieName ReleaseTime     Genre  Budget  \\\n",
       "0     1   2014-04-18            2 States          LW   Romance      36   \n",
       "1     2   2013-01-04        Table No. 21           N  Thriller      10   \n",
       "2     3   2014-07-18  Amit Sahni Ki List           N    Comedy      10   \n",
       "3     4   2013-01-04    Rajdhani Express           N    Drama        7   \n",
       "4     5   2014-07-04        Bobby Jasoos           N    Comedy      18   \n",
       "\n",
       "   BoxOfficeCollection  YoutubeViews  YoutubeLikes  YoutubeDislikes  \\\n",
       "0               104.00       8576361         26622             2527   \n",
       "1                12.00       1087320          1129              137   \n",
       "2                 4.00        572336           586               54   \n",
       "3                 0.35         42626            86               19   \n",
       "4                10.80       3113427          4512             1224   \n",
       "\n",
       "  Month_Name  Year  \n",
       "0      April  2014  \n",
       "1    January  2013  \n",
       "2       July  2014  \n",
       "3    January  2013  \n",
       "4       July  2014  "
      ]
     },
     "execution_count": 18,
     "metadata": {},
     "output_type": "execute_result"
    }
   ],
   "source": [
    "df.head()"
   ]
  },
  {
   "cell_type": "code",
   "execution_count": 20,
   "id": "e9553536",
   "metadata": {},
   "outputs": [],
   "source": [
    "df_numeric= df.select_dtypes(include= np.number)"
   ]
  },
  {
   "cell_type": "code",
   "execution_count": 23,
   "id": "66b01a6b",
   "metadata": {},
   "outputs": [
    {
     "data": {
      "text/html": [
       "<div>\n",
       "<style scoped>\n",
       "    .dataframe tbody tr th:only-of-type {\n",
       "        vertical-align: middle;\n",
       "    }\n",
       "\n",
       "    .dataframe tbody tr th {\n",
       "        vertical-align: top;\n",
       "    }\n",
       "\n",
       "    .dataframe thead th {\n",
       "        text-align: right;\n",
       "    }\n",
       "</style>\n",
       "<table border=\"1\" class=\"dataframe\">\n",
       "  <thead>\n",
       "    <tr style=\"text-align: right;\">\n",
       "      <th></th>\n",
       "      <th>SlNo</th>\n",
       "      <th>Budget</th>\n",
       "      <th>BoxOfficeCollection</th>\n",
       "      <th>YoutubeViews</th>\n",
       "      <th>YoutubeLikes</th>\n",
       "      <th>YoutubeDislikes</th>\n",
       "      <th>Year</th>\n",
       "    </tr>\n",
       "  </thead>\n",
       "  <tbody>\n",
       "    <tr>\n",
       "      <th>SlNo</th>\n",
       "      <td>1.000000</td>\n",
       "      <td>0.116899</td>\n",
       "      <td>0.036908</td>\n",
       "      <td>0.025027</td>\n",
       "      <td>0.018163</td>\n",
       "      <td>0.035949</td>\n",
       "      <td>0.132755</td>\n",
       "    </tr>\n",
       "    <tr>\n",
       "      <th>Budget</th>\n",
       "      <td>0.116899</td>\n",
       "      <td>1.000000</td>\n",
       "      <td>0.650401</td>\n",
       "      <td>0.589038</td>\n",
       "      <td>0.608916</td>\n",
       "      <td>0.665343</td>\n",
       "      <td>0.062069</td>\n",
       "    </tr>\n",
       "    <tr>\n",
       "      <th>BoxOfficeCollection</th>\n",
       "      <td>0.036908</td>\n",
       "      <td>0.650401</td>\n",
       "      <td>1.000000</td>\n",
       "      <td>0.588632</td>\n",
       "      <td>0.682517</td>\n",
       "      <td>0.623941</td>\n",
       "      <td>0.011673</td>\n",
       "    </tr>\n",
       "    <tr>\n",
       "      <th>YoutubeViews</th>\n",
       "      <td>0.025027</td>\n",
       "      <td>0.589038</td>\n",
       "      <td>0.588632</td>\n",
       "      <td>1.000000</td>\n",
       "      <td>0.884055</td>\n",
       "      <td>0.846739</td>\n",
       "      <td>0.280666</td>\n",
       "    </tr>\n",
       "    <tr>\n",
       "      <th>YoutubeLikes</th>\n",
       "      <td>0.018163</td>\n",
       "      <td>0.608916</td>\n",
       "      <td>0.682517</td>\n",
       "      <td>0.884055</td>\n",
       "      <td>1.000000</td>\n",
       "      <td>0.859730</td>\n",
       "      <td>0.209155</td>\n",
       "    </tr>\n",
       "    <tr>\n",
       "      <th>YoutubeDislikes</th>\n",
       "      <td>0.035949</td>\n",
       "      <td>0.665343</td>\n",
       "      <td>0.623941</td>\n",
       "      <td>0.846739</td>\n",
       "      <td>0.859730</td>\n",
       "      <td>1.000000</td>\n",
       "      <td>0.147098</td>\n",
       "    </tr>\n",
       "    <tr>\n",
       "      <th>Year</th>\n",
       "      <td>0.132755</td>\n",
       "      <td>0.062069</td>\n",
       "      <td>0.011673</td>\n",
       "      <td>0.280666</td>\n",
       "      <td>0.209155</td>\n",
       "      <td>0.147098</td>\n",
       "      <td>1.000000</td>\n",
       "    </tr>\n",
       "  </tbody>\n",
       "</table>\n",
       "</div>"
      ],
      "text/plain": [
       "                         SlNo    Budget  BoxOfficeCollection  YoutubeViews  \\\n",
       "SlNo                 1.000000  0.116899             0.036908      0.025027   \n",
       "Budget               0.116899  1.000000             0.650401      0.589038   \n",
       "BoxOfficeCollection  0.036908  0.650401             1.000000      0.588632   \n",
       "YoutubeViews         0.025027  0.589038             0.588632      1.000000   \n",
       "YoutubeLikes         0.018163  0.608916             0.682517      0.884055   \n",
       "YoutubeDislikes      0.035949  0.665343             0.623941      0.846739   \n",
       "Year                 0.132755  0.062069             0.011673      0.280666   \n",
       "\n",
       "                     YoutubeLikes  YoutubeDislikes      Year  \n",
       "SlNo                     0.018163         0.035949  0.132755  \n",
       "Budget                   0.608916         0.665343  0.062069  \n",
       "BoxOfficeCollection      0.682517         0.623941  0.011673  \n",
       "YoutubeViews             0.884055         0.846739  0.280666  \n",
       "YoutubeLikes             1.000000         0.859730  0.209155  \n",
       "YoutubeDislikes          0.859730         1.000000  0.147098  \n",
       "Year                     0.209155         0.147098  1.000000  "
      ]
     },
     "execution_count": 23,
     "metadata": {},
     "output_type": "execute_result"
    }
   ],
   "source": [
    "df_numeric.corr()"
   ]
  },
  {
   "cell_type": "code",
   "execution_count": 24,
   "id": "cbb0b6af",
   "metadata": {},
   "outputs": [
    {
     "data": {
      "text/plain": [
       "<AxesSubplot:>"
      ]
     },
     "execution_count": 24,
     "metadata": {},
     "output_type": "execute_result"
    },
    {
     "data": {
      "image/png": "[encoded data removed]",
      "text/plain": [
       "<Figure size 432x288 with 2 Axes>"
      ]
     },
     "metadata": {
      "needs_background": "light"
     },
     "output_type": "display_data"
    }
   ],
   "source": [
    "sns.heatmap(df_numeric.corr(), annot=True)"
   ]
  },
  {
   "cell_type": "code",
   "execution_count": null,
   "id": "ee88efb6",
   "metadata": {},
   "outputs": [],
   "source": [
    "#correlation - strong positively correlation is seen for Youtube Views, Youtube Likes and Youtube Dislikes.\n",
    "# strong correlation is seen with values +/- 0.7 and above\n",
    "# moderate correlation is seen with values +/- 0.4- 0.6,0.69\n",
    "# rest is weak correlation"
   ]
  },
  {
   "cell_type": "code",
   "execution_count": 26,
   "id": "f648b770",
   "metadata": {},
   "outputs": [
    {
     "data": {
      "text/plain": [
       "Genre\n",
       "Action      101275\n",
       " Drama       43767\n",
       "Romance      26622\n",
       "Comedy       20472\n",
       "Thriller     18907\n",
       "Name: YoutubeLikes, dtype: int64"
      ]
     },
     "execution_count": 26,
     "metadata": {},
     "output_type": "execute_result"
    }
   ],
   "source": [
    "#c.\n",
    "df.groupby('Genre')['YoutubeLikes'].max().sort_values(ascending=False)"
   ]
  },
  {
   "cell_type": "code",
   "execution_count": 28,
   "id": "48bc93ae",
   "metadata": {},
   "outputs": [
    {
     "data": {
      "text/plain": [
       "Genre\n",
       "Action      401873\n",
       " Drama      279077\n",
       "Romance     177241\n",
       "Comedy      172250\n",
       "Thriller    143312\n",
       "Name: YoutubeLikes, dtype: int64"
      ]
     },
     "execution_count": 28,
     "metadata": {},
     "output_type": "execute_result"
    }
   ],
   "source": [
    "df.groupby('Genre')['YoutubeLikes'].sum().sort_values(ascending=False)"
   ]
  },
  {
   "cell_type": "code",
   "execution_count": 29,
   "id": "2a3322a3",
   "metadata": {},
   "outputs": [
    {
     "data": {
      "text/plain": [
       "Genre\n",
       "Action      16744.708333\n",
       " Drama       7973.628571\n",
       "Romance      7089.640000\n",
       "Thriller     4941.793103\n",
       "Comedy       4784.722222\n",
       "Name: YoutubeLikes, dtype: float64"
      ]
     },
     "execution_count": 29,
     "metadata": {},
     "output_type": "execute_result"
    }
   ],
   "source": [
    "df.groupby('Genre')['YoutubeLikes'].mean().sort_values(ascending=False)"
   ]
  },
  {
   "cell_type": "code",
   "execution_count": null,
   "id": "43267f2f",
   "metadata": {},
   "outputs": [],
   "source": [
    "# Data Tranformations"
   ]
  },
  {
   "cell_type": "code",
   "execution_count": 30,
   "id": "767852c5",
   "metadata": {},
   "outputs": [
    {
     "name": "stderr",
     "output_type": "stream",
     "text": [
      "C:\\Users\\ANUPAM~1\\AppData\\Local\\Temp/ipykernel_16700/1665899112.py:1: FutureWarning: Dropping of nuisance columns in DataFrame reductions (with 'numeric_only=None') is deprecated; in a future version this will raise TypeError.  Select only valid columns before calling the reduction.\n",
      "  df.skew()\n"
     ]
    },
    {
     "data": {
      "text/plain": [
       "SlNo                   0.000000\n",
       "Budget                 2.059560\n",
       "BoxOfficeCollection    3.980880\n",
       "YoutubeViews           2.667002\n",
       "YoutubeLikes           4.391138\n",
       "YoutubeDislikes        3.534963\n",
       "Year                   0.479715\n",
       "dtype: float64"
      ]
     },
     "execution_count": 30,
     "metadata": {},
     "output_type": "execute_result"
    }
   ],
   "source": [
    "df.skew()"
   ]
  },
  {
   "cell_type": "code",
   "execution_count": 31,
   "id": "6bf6bb8b",
   "metadata": {},
   "outputs": [],
   "source": [
    "trans_df= pd.DataFrame(df['YoutubeLikes'].copy(deep=True))"
   ]
  },
  {
   "cell_type": "code",
   "execution_count": 32,
   "id": "852b90ff",
   "metadata": {},
   "outputs": [
    {
     "data": {
      "text/plain": [
       "Index(['YoutubeLikes'], dtype='object')"
      ]
     },
     "execution_count": 32,
     "metadata": {},
     "output_type": "execute_result"
    }
   ],
   "source": [
    "trans_df.columns"
   ]
  },
  {
   "cell_type": "code",
   "execution_count": 34,
   "id": "f8d95d42",
   "metadata": {},
   "outputs": [],
   "source": [
    "from scipy import stats"
   ]
  },
  {
   "cell_type": "code",
   "execution_count": 37,
   "id": "baf3f8c2",
   "metadata": {},
   "outputs": [],
   "source": [
    "trans_df['log_YoutubeLikes']=np.log(trans_df['YoutubeLikes']) #log tansformation\n",
    "trans_df['sqrt_YoutubeLikes']=np.sqrt(trans_df['YoutubeLikes']) #sqrt\n",
    "trans_df['cube_YoutubeLikes']=np.cbrt(trans_df['YoutubeLikes']) #cube\n",
    "trans_df['boxcox_YoutubeLikes']=stats.boxcox(trans_df['YoutubeLikes'])[0] #boxcox\n",
    "trans_df['reci_YoutubeLikes']=1/trans_df['YoutubeLikes'] #reciprocal"
   ]
  },
  {
   "cell_type": "code",
   "execution_count": 38,
   "id": "06527ac7",
   "metadata": {},
   "outputs": [
    {
     "data": {
      "text/html": [
       "<div>\n",
       "<style scoped>\n",
       "    .dataframe tbody tr th:only-of-type {\n",
       "        vertical-align: middle;\n",
       "    }\n",
       "\n",
       "    .dataframe tbody tr th {\n",
       "        vertical-align: top;\n",
       "    }\n",
       "\n",
       "    .dataframe thead th {\n",
       "        text-align: right;\n",
       "    }\n",
       "</style>\n",
       "<table border=\"1\" class=\"dataframe\">\n",
       "  <thead>\n",
       "    <tr style=\"text-align: right;\">\n",
       "      <th></th>\n",
       "      <th>YoutubeLikes</th>\n",
       "      <th>log_YoutubeLikes</th>\n",
       "      <th>sqrt_YoutubeLikes</th>\n",
       "      <th>cube_YoutubeLikes</th>\n",
       "      <th>reci_YoutubeLikes</th>\n",
       "      <th>boxcox_YoutubeLikes</th>\n",
       "    </tr>\n",
       "  </thead>\n",
       "  <tbody>\n",
       "    <tr>\n",
       "      <th>0</th>\n",
       "      <td>26622</td>\n",
       "      <td>10.189493</td>\n",
       "      <td>163.162496</td>\n",
       "      <td>29.859342</td>\n",
       "      <td>0.000038</td>\n",
       "      <td>41.380610</td>\n",
       "    </tr>\n",
       "    <tr>\n",
       "      <th>1</th>\n",
       "      <td>1129</td>\n",
       "      <td>7.029088</td>\n",
       "      <td>33.600595</td>\n",
       "      <td>10.412731</td>\n",
       "      <td>0.000886</td>\n",
       "      <td>17.667178</td>\n",
       "    </tr>\n",
       "    <tr>\n",
       "      <th>2</th>\n",
       "      <td>586</td>\n",
       "      <td>6.373320</td>\n",
       "      <td>24.207437</td>\n",
       "      <td>8.368209</td>\n",
       "      <td>0.001706</td>\n",
       "      <td>14.570266</td>\n",
       "    </tr>\n",
       "    <tr>\n",
       "      <th>3</th>\n",
       "      <td>86</td>\n",
       "      <td>4.454347</td>\n",
       "      <td>9.273618</td>\n",
       "      <td>4.414005</td>\n",
       "      <td>0.011628</td>\n",
       "      <td>7.794482</td>\n",
       "    </tr>\n",
       "    <tr>\n",
       "      <th>4</th>\n",
       "      <td>4512</td>\n",
       "      <td>8.414496</td>\n",
       "      <td>67.171422</td>\n",
       "      <td>16.524298</td>\n",
       "      <td>0.000222</td>\n",
       "      <td>25.981232</td>\n",
       "    </tr>\n",
       "  </tbody>\n",
       "</table>\n",
       "</div>"
      ],
      "text/plain": [
       "   YoutubeLikes  log_YoutubeLikes  sqrt_YoutubeLikes  cube_YoutubeLikes  \\\n",
       "0         26622         10.189493         163.162496          29.859342   \n",
       "1          1129          7.029088          33.600595          10.412731   \n",
       "2           586          6.373320          24.207437           8.368209   \n",
       "3            86          4.454347           9.273618           4.414005   \n",
       "4          4512          8.414496          67.171422          16.524298   \n",
       "\n",
       "   reci_YoutubeLikes  boxcox_YoutubeLikes  \n",
       "0           0.000038            41.380610  \n",
       "1           0.000886            17.667178  \n",
       "2           0.001706            14.570266  \n",
       "3           0.011628             7.794482  \n",
       "4           0.000222            25.981232  "
      ]
     },
     "execution_count": 38,
     "metadata": {},
     "output_type": "execute_result"
    }
   ],
   "source": [
    "trans_df.head()"
   ]
  },
  {
   "cell_type": "code",
   "execution_count": 39,
   "id": "7b25fe8e",
   "metadata": {},
   "outputs": [
    {
     "data": {
      "text/plain": [
       "YoutubeLikes           4.391138\n",
       "log_YoutubeLikes      -1.826443\n",
       "sqrt_YoutubeLikes      1.587037\n",
       "cube_YoutubeLikes      0.633136\n",
       "reci_YoutubeLikes      5.850591\n",
       "boxcox_YoutubeLikes    0.009461\n",
       "dtype: float64"
      ]
     },
     "execution_count": 39,
     "metadata": {},
     "output_type": "execute_result"
    }
   ],
   "source": [
    "trans_df.skew()"
   ]
  },
  {
   "cell_type": "code",
   "execution_count": 40,
   "id": "ff7e52a0",
   "metadata": {},
   "outputs": [
    {
     "data": {
      "image/png": "[encoded data removed]",
      "text/plain": [
       "<Figure size 1224x576 with 9 Axes>"
      ]
     },
     "metadata": {
      "needs_background": "light"
     },
     "output_type": "display_data"
    }
   ],
   "source": [
    "plt.rcParams[\"figure.figsize\"]=[17,8]\n",
    "trans_df.plot(kind='density',subplots= True, layout=(3,3), sharex=False)\n",
    "plt.tight_layout()\n",
    "plt.show()"
   ]
  },
  {
   "cell_type": "code",
   "execution_count": null,
   "id": "6155afcb",
   "metadata": {},
   "outputs": [],
   "source": [
    "# One Hot Encoder, Label Encoder, Ordinal Encoder"
   ]
  },
  {
   "cell_type": "code",
   "execution_count": 41,
   "id": "23869f6d",
   "metadata": {},
   "outputs": [],
   "source": [
    "from sklearn.preprocessing import OneHotEncoder,LabelEncoder,OrdinalEncoder"
   ]
  },
  {
   "cell_type": "code",
   "execution_count": 73,
   "id": "9564fc07",
   "metadata": {},
   "outputs": [
    {
     "data": {
      "text/html": [
       "<div>\n",
       "<style scoped>\n",
       "    .dataframe tbody tr th:only-of-type {\n",
       "        vertical-align: middle;\n",
       "    }\n",
       "\n",
       "    .dataframe tbody tr th {\n",
       "        vertical-align: top;\n",
       "    }\n",
       "\n",
       "    .dataframe thead th {\n",
       "        text-align: right;\n",
       "    }\n",
       "</style>\n",
       "<table border=\"1\" class=\"dataframe\">\n",
       "  <thead>\n",
       "    <tr style=\"text-align: right;\">\n",
       "      <th></th>\n",
       "      <th>YoutubeLikes</th>\n",
       "      <th>log_YoutubeLikes</th>\n",
       "      <th>sqrt_YoutubeLikes</th>\n",
       "      <th>cube_YoutubeLikes</th>\n",
       "      <th>reci_YoutubeLikes</th>\n",
       "      <th>boxcox_YoutubeLikes</th>\n",
       "      <th>Genre_Action</th>\n",
       "      <th>Genre_Comedy</th>\n",
       "      <th>Genre_Drama</th>\n",
       "      <th>Genre_Romance</th>\n",
       "      <th>Genre_Thriller</th>\n",
       "    </tr>\n",
       "  </thead>\n",
       "  <tbody>\n",
       "    <tr>\n",
       "      <th>0</th>\n",
       "      <td>26622</td>\n",
       "      <td>10.189493</td>\n",
       "      <td>163.162496</td>\n",
       "      <td>29.859342</td>\n",
       "      <td>0.000038</td>\n",
       "      <td>41.380610</td>\n",
       "      <td>0.0</td>\n",
       "      <td>0.0</td>\n",
       "      <td>0.0</td>\n",
       "      <td>1.0</td>\n",
       "      <td>0.0</td>\n",
       "    </tr>\n",
       "    <tr>\n",
       "      <th>1</th>\n",
       "      <td>1129</td>\n",
       "      <td>7.029088</td>\n",
       "      <td>33.600595</td>\n",
       "      <td>10.412731</td>\n",
       "      <td>0.000886</td>\n",
       "      <td>17.667178</td>\n",
       "      <td>0.0</td>\n",
       "      <td>0.0</td>\n",
       "      <td>0.0</td>\n",
       "      <td>0.0</td>\n",
       "      <td>1.0</td>\n",
       "    </tr>\n",
       "    <tr>\n",
       "      <th>2</th>\n",
       "      <td>586</td>\n",
       "      <td>6.373320</td>\n",
       "      <td>24.207437</td>\n",
       "      <td>8.368209</td>\n",
       "      <td>0.001706</td>\n",
       "      <td>14.570266</td>\n",
       "      <td>0.0</td>\n",
       "      <td>1.0</td>\n",
       "      <td>0.0</td>\n",
       "      <td>0.0</td>\n",
       "      <td>0.0</td>\n",
       "    </tr>\n",
       "    <tr>\n",
       "      <th>3</th>\n",
       "      <td>86</td>\n",
       "      <td>4.454347</td>\n",
       "      <td>9.273618</td>\n",
       "      <td>4.414005</td>\n",
       "      <td>0.011628</td>\n",
       "      <td>7.794482</td>\n",
       "      <td>0.0</td>\n",
       "      <td>0.0</td>\n",
       "      <td>1.0</td>\n",
       "      <td>0.0</td>\n",
       "      <td>0.0</td>\n",
       "    </tr>\n",
       "    <tr>\n",
       "      <th>4</th>\n",
       "      <td>4512</td>\n",
       "      <td>8.414496</td>\n",
       "      <td>67.171422</td>\n",
       "      <td>16.524298</td>\n",
       "      <td>0.000222</td>\n",
       "      <td>25.981232</td>\n",
       "      <td>0.0</td>\n",
       "      <td>1.0</td>\n",
       "      <td>0.0</td>\n",
       "      <td>0.0</td>\n",
       "      <td>0.0</td>\n",
       "    </tr>\n",
       "  </tbody>\n",
       "</table>\n",
       "</div>"
      ],
      "text/plain": [
       "   YoutubeLikes  log_YoutubeLikes  sqrt_YoutubeLikes  cube_YoutubeLikes  \\\n",
       "0         26622         10.189493         163.162496          29.859342   \n",
       "1          1129          7.029088          33.600595          10.412731   \n",
       "2           586          6.373320          24.207437           8.368209   \n",
       "3            86          4.454347           9.273618           4.414005   \n",
       "4          4512          8.414496          67.171422          16.524298   \n",
       "\n",
       "   reci_YoutubeLikes  boxcox_YoutubeLikes  Genre_Action  Genre_Comedy  \\\n",
       "0           0.000038            41.380610           0.0           0.0   \n",
       "1           0.000886            17.667178           0.0           0.0   \n",
       "2           0.001706            14.570266           0.0           1.0   \n",
       "3           0.011628             7.794482           0.0           0.0   \n",
       "4           0.000222            25.981232           0.0           1.0   \n",
       "\n",
       "   Genre_Drama  Genre_Romance  Genre_Thriller  \n",
       "0          0.0            1.0             0.0  \n",
       "1          0.0            0.0             1.0  \n",
       "2          0.0            0.0             0.0  \n",
       "3          1.0            0.0             0.0  \n",
       "4          0.0            0.0             0.0  "
      ]
     },
     "execution_count": 73,
     "metadata": {},
     "output_type": "execute_result"
    }
   ],
   "source": [
    "# one hot encoder\n",
    "\n",
    "encode= OneHotEncoder()\n",
    "\n",
    "encode_df= pd.DataFrame(encode.fit_transform(df[['Genre']]).toarray(), columns=['Genre_Action',\n",
    "                                                                                'Genre_Comedy','Genre_Drama',\n",
    "                                                                                'Genre_Romance','Genre_Thriller'])\n",
    "                                                                   \n",
    "\n",
    "encode_df=pd.concat([trans_df,encode_df], axis=1)\n",
    "\n",
    "encode_df.head()"
   ]
  },
  {
   "cell_type": "code",
   "execution_count": 74,
   "id": "889713d1",
   "metadata": {},
   "outputs": [
    {
     "data": {
      "text/html": [
       "<div>\n",
       "<style scoped>\n",
       "    .dataframe tbody tr th:only-of-type {\n",
       "        vertical-align: middle;\n",
       "    }\n",
       "\n",
       "    .dataframe tbody tr th {\n",
       "        vertical-align: top;\n",
       "    }\n",
       "\n",
       "    .dataframe thead th {\n",
       "        text-align: right;\n",
       "    }\n",
       "</style>\n",
       "<table border=\"1\" class=\"dataframe\">\n",
       "  <thead>\n",
       "    <tr style=\"text-align: right;\">\n",
       "      <th></th>\n",
       "      <th>YoutubeLikes</th>\n",
       "      <th>log_YoutubeLikes</th>\n",
       "      <th>sqrt_YoutubeLikes</th>\n",
       "      <th>cube_YoutubeLikes</th>\n",
       "      <th>reci_YoutubeLikes</th>\n",
       "      <th>boxcox_YoutubeLikes</th>\n",
       "      <th>Genre_Action</th>\n",
       "      <th>Genre_Comedy</th>\n",
       "      <th>Genre_Drama</th>\n",
       "      <th>Genre_Romance</th>\n",
       "      <th>Genre_Thriller</th>\n",
       "    </tr>\n",
       "  </thead>\n",
       "  <tbody>\n",
       "    <tr>\n",
       "      <th>count</th>\n",
       "      <td>149.000000</td>\n",
       "      <td>149.000000</td>\n",
       "      <td>149.000000</td>\n",
       "      <td>149.000000</td>\n",
       "      <td>149.000000</td>\n",
       "      <td>149.000000</td>\n",
       "      <td>149.000000</td>\n",
       "      <td>149.000000</td>\n",
       "      <td>149.000000</td>\n",
       "      <td>149.000000</td>\n",
       "      <td>149.000000</td>\n",
       "    </tr>\n",
       "    <tr>\n",
       "      <th>mean</th>\n",
       "      <td>7877.536913</td>\n",
       "      <td>7.877313</td>\n",
       "      <td>72.239902</td>\n",
       "      <td>16.371890</td>\n",
       "      <td>0.029516</td>\n",
       "      <td>24.930743</td>\n",
       "      <td>0.161074</td>\n",
       "      <td>0.241611</td>\n",
       "      <td>0.234899</td>\n",
       "      <td>0.167785</td>\n",
       "      <td>0.194631</td>\n",
       "    </tr>\n",
       "    <tr>\n",
       "      <th>std</th>\n",
       "      <td>12748.047191</td>\n",
       "      <td>2.068824</td>\n",
       "      <td>51.738759</td>\n",
       "      <td>8.054542</td>\n",
       "      <td>0.162330</td>\n",
       "      <td>10.538460</td>\n",
       "      <td>0.368839</td>\n",
       "      <td>0.429503</td>\n",
       "      <td>0.425366</td>\n",
       "      <td>0.374936</td>\n",
       "      <td>0.397252</td>\n",
       "    </tr>\n",
       "    <tr>\n",
       "      <th>min</th>\n",
       "      <td>1.000000</td>\n",
       "      <td>0.000000</td>\n",
       "      <td>1.000000</td>\n",
       "      <td>1.000000</td>\n",
       "      <td>0.000010</td>\n",
       "      <td>0.000000</td>\n",
       "      <td>0.000000</td>\n",
       "      <td>0.000000</td>\n",
       "      <td>0.000000</td>\n",
       "      <td>0.000000</td>\n",
       "      <td>0.000000</td>\n",
       "    </tr>\n",
       "    <tr>\n",
       "      <th>25%</th>\n",
       "      <td>1377.000000</td>\n",
       "      <td>7.227662</td>\n",
       "      <td>37.107951</td>\n",
       "      <td>11.125289</td>\n",
       "      <td>0.000110</td>\n",
       "      <td>18.701543</td>\n",
       "      <td>0.000000</td>\n",
       "      <td>0.000000</td>\n",
       "      <td>0.000000</td>\n",
       "      <td>0.000000</td>\n",
       "      <td>0.000000</td>\n",
       "    </tr>\n",
       "    <tr>\n",
       "      <th>50%</th>\n",
       "      <td>4111.000000</td>\n",
       "      <td>8.321422</td>\n",
       "      <td>64.117080</td>\n",
       "      <td>16.019507</td>\n",
       "      <td>0.000243</td>\n",
       "      <td>25.335309</td>\n",
       "      <td>0.000000</td>\n",
       "      <td>0.000000</td>\n",
       "      <td>0.000000</td>\n",
       "      <td>0.000000</td>\n",
       "      <td>0.000000</td>\n",
       "    </tr>\n",
       "    <tr>\n",
       "      <th>75%</th>\n",
       "      <td>9100.000000</td>\n",
       "      <td>9.116030</td>\n",
       "      <td>95.393920</td>\n",
       "      <td>20.877595</td>\n",
       "      <td>0.000726</td>\n",
       "      <td>31.324600</td>\n",
       "      <td>0.000000</td>\n",
       "      <td>0.000000</td>\n",
       "      <td>0.000000</td>\n",
       "      <td>0.000000</td>\n",
       "      <td>0.000000</td>\n",
       "    </tr>\n",
       "    <tr>\n",
       "      <th>max</th>\n",
       "      <td>101275.000000</td>\n",
       "      <td>11.525595</td>\n",
       "      <td>318.237333</td>\n",
       "      <td>46.612323</td>\n",
       "      <td>1.000000</td>\n",
       "      <td>57.946845</td>\n",
       "      <td>1.000000</td>\n",
       "      <td>1.000000</td>\n",
       "      <td>1.000000</td>\n",
       "      <td>1.000000</td>\n",
       "      <td>1.000000</td>\n",
       "    </tr>\n",
       "  </tbody>\n",
       "</table>\n",
       "</div>"
      ],
      "text/plain": [
       "        YoutubeLikes  log_YoutubeLikes  sqrt_YoutubeLikes  cube_YoutubeLikes  \\\n",
       "count     149.000000        149.000000         149.000000         149.000000   \n",
       "mean     7877.536913          7.877313          72.239902          16.371890   \n",
       "std     12748.047191          2.068824          51.738759           8.054542   \n",
       "min         1.000000          0.000000           1.000000           1.000000   \n",
       "25%      1377.000000          7.227662          37.107951          11.125289   \n",
       "50%      4111.000000          8.321422          64.117080          16.019507   \n",
       "75%      9100.000000          9.116030          95.393920          20.877595   \n",
       "max    101275.000000         11.525595         318.237333          46.612323   \n",
       "\n",
       "       reci_YoutubeLikes  boxcox_YoutubeLikes  Genre_Action  Genre_Comedy  \\\n",
       "count         149.000000           149.000000    149.000000    149.000000   \n",
       "mean            0.029516            24.930743      0.161074      0.241611   \n",
       "std             0.162330            10.538460      0.368839      0.429503   \n",
       "min             0.000010             0.000000      0.000000      0.000000   \n",
       "25%             0.000110            18.701543      0.000000      0.000000   \n",
       "50%             0.000243            25.335309      0.000000      0.000000   \n",
       "75%             0.000726            31.324600      0.000000      0.000000   \n",
       "max             1.000000            57.946845      1.000000      1.000000   \n",
       "\n",
       "       Genre_Drama  Genre_Romance  Genre_Thriller  \n",
       "count   149.000000     149.000000      149.000000  \n",
       "mean      0.234899       0.167785        0.194631  \n",
       "std       0.425366       0.374936        0.397252  \n",
       "min       0.000000       0.000000        0.000000  \n",
       "25%       0.000000       0.000000        0.000000  \n",
       "50%       0.000000       0.000000        0.000000  \n",
       "75%       0.000000       0.000000        0.000000  \n",
       "max       1.000000       1.000000        1.000000  "
      ]
     },
     "execution_count": 74,
     "metadata": {},
     "output_type": "execute_result"
    }
   ],
   "source": [
    "encode_df.describe()"
   ]
  },
  {
   "cell_type": "code",
   "execution_count": 65,
   "id": "24712ac7",
   "metadata": {
    "scrolled": true
   },
   "outputs": [
    {
     "data": {
      "text/plain": [
       "Comedy      0.241611\n",
       " Drama      0.234899\n",
       "Thriller    0.194631\n",
       "Romance     0.167785\n",
       "Action      0.161074\n",
       "Name: Genre, dtype: float64"
      ]
     },
     "execution_count": 65,
     "metadata": {},
     "output_type": "execute_result"
    }
   ],
   "source": [
    "df.Genre.value_counts(normalize=True).sort_values(ascending=False)"
   ]
  },
  {
   "cell_type": "code",
   "execution_count": 49,
   "id": "e24b2e24",
   "metadata": {},
   "outputs": [],
   "source": [
    "df_dummy= pd.get_dummies(df,columns=['Genre'], drop_first=True) #using Pandas  N-1Dummy coding when we have to deal to multi-collinearity"
   ]
  },
  {
   "cell_type": "code",
   "execution_count": 50,
   "id": "5f104215",
   "metadata": {
    "scrolled": true
   },
   "outputs": [
    {
     "data": {
      "text/html": [
       "<div>\n",
       "<style scoped>\n",
       "    .dataframe tbody tr th:only-of-type {\n",
       "        vertical-align: middle;\n",
       "    }\n",
       "\n",
       "    .dataframe tbody tr th {\n",
       "        vertical-align: top;\n",
       "    }\n",
       "\n",
       "    .dataframe thead th {\n",
       "        text-align: right;\n",
       "    }\n",
       "</style>\n",
       "<table border=\"1\" class=\"dataframe\">\n",
       "  <thead>\n",
       "    <tr style=\"text-align: right;\">\n",
       "      <th></th>\n",
       "      <th>SlNo</th>\n",
       "      <th>Budget</th>\n",
       "      <th>BoxOfficeCollection</th>\n",
       "      <th>YoutubeViews</th>\n",
       "      <th>YoutubeLikes</th>\n",
       "      <th>YoutubeDislikes</th>\n",
       "      <th>Year</th>\n",
       "      <th>Genre_ Drama</th>\n",
       "      <th>Genre_Action</th>\n",
       "      <th>Genre_Comedy</th>\n",
       "      <th>Genre_Romance</th>\n",
       "      <th>Genre_Thriller</th>\n",
       "    </tr>\n",
       "  </thead>\n",
       "  <tbody>\n",
       "    <tr>\n",
       "      <th>count</th>\n",
       "      <td>149.000000</td>\n",
       "      <td>149.000000</td>\n",
       "      <td>149.000000</td>\n",
       "      <td>1.490000e+02</td>\n",
       "      <td>149.000000</td>\n",
       "      <td>149.000000</td>\n",
       "      <td>149.000000</td>\n",
       "      <td>149.000000</td>\n",
       "      <td>149.000000</td>\n",
       "      <td>149.000000</td>\n",
       "      <td>149.000000</td>\n",
       "      <td>149.000000</td>\n",
       "    </tr>\n",
       "    <tr>\n",
       "      <th>mean</th>\n",
       "      <td>75.000000</td>\n",
       "      <td>29.442953</td>\n",
       "      <td>55.667248</td>\n",
       "      <td>3.337920e+06</td>\n",
       "      <td>7877.536913</td>\n",
       "      <td>1207.818792</td>\n",
       "      <td>2013.630872</td>\n",
       "      <td>0.234899</td>\n",
       "      <td>0.161074</td>\n",
       "      <td>0.241611</td>\n",
       "      <td>0.167785</td>\n",
       "      <td>0.194631</td>\n",
       "    </tr>\n",
       "    <tr>\n",
       "      <th>std</th>\n",
       "      <td>43.156691</td>\n",
       "      <td>28.237981</td>\n",
       "      <td>94.494531</td>\n",
       "      <td>3.504407e+06</td>\n",
       "      <td>12748.047191</td>\n",
       "      <td>1852.692938</td>\n",
       "      <td>0.629768</td>\n",
       "      <td>0.425366</td>\n",
       "      <td>0.368839</td>\n",
       "      <td>0.429503</td>\n",
       "      <td>0.374936</td>\n",
       "      <td>0.397252</td>\n",
       "    </tr>\n",
       "    <tr>\n",
       "      <th>min</th>\n",
       "      <td>1.000000</td>\n",
       "      <td>2.000000</td>\n",
       "      <td>0.010000</td>\n",
       "      <td>4.354000e+03</td>\n",
       "      <td>1.000000</td>\n",
       "      <td>1.000000</td>\n",
       "      <td>2013.000000</td>\n",
       "      <td>0.000000</td>\n",
       "      <td>0.000000</td>\n",
       "      <td>0.000000</td>\n",
       "      <td>0.000000</td>\n",
       "      <td>0.000000</td>\n",
       "    </tr>\n",
       "    <tr>\n",
       "      <th>25%</th>\n",
       "      <td>38.000000</td>\n",
       "      <td>11.000000</td>\n",
       "      <td>8.780000</td>\n",
       "      <td>1.076591e+06</td>\n",
       "      <td>1377.000000</td>\n",
       "      <td>189.000000</td>\n",
       "      <td>2013.000000</td>\n",
       "      <td>0.000000</td>\n",
       "      <td>0.000000</td>\n",
       "      <td>0.000000</td>\n",
       "      <td>0.000000</td>\n",
       "      <td>0.000000</td>\n",
       "    </tr>\n",
       "    <tr>\n",
       "      <th>50%</th>\n",
       "      <td>75.000000</td>\n",
       "      <td>21.000000</td>\n",
       "      <td>28.000000</td>\n",
       "      <td>2.375050e+06</td>\n",
       "      <td>4111.000000</td>\n",
       "      <td>614.000000</td>\n",
       "      <td>2014.000000</td>\n",
       "      <td>0.000000</td>\n",
       "      <td>0.000000</td>\n",
       "      <td>0.000000</td>\n",
       "      <td>0.000000</td>\n",
       "      <td>0.000000</td>\n",
       "    </tr>\n",
       "    <tr>\n",
       "      <th>75%</th>\n",
       "      <td>112.000000</td>\n",
       "      <td>35.000000</td>\n",
       "      <td>57.450000</td>\n",
       "      <td>4.550051e+06</td>\n",
       "      <td>9100.000000</td>\n",
       "      <td>1419.000000</td>\n",
       "      <td>2014.000000</td>\n",
       "      <td>0.000000</td>\n",
       "      <td>0.000000</td>\n",
       "      <td>0.000000</td>\n",
       "      <td>0.000000</td>\n",
       "      <td>0.000000</td>\n",
       "    </tr>\n",
       "    <tr>\n",
       "      <th>max</th>\n",
       "      <td>149.000000</td>\n",
       "      <td>150.000000</td>\n",
       "      <td>735.000000</td>\n",
       "      <td>2.317107e+07</td>\n",
       "      <td>101275.000000</td>\n",
       "      <td>11888.000000</td>\n",
       "      <td>2015.000000</td>\n",
       "      <td>1.000000</td>\n",
       "      <td>1.000000</td>\n",
       "      <td>1.000000</td>\n",
       "      <td>1.000000</td>\n",
       "      <td>1.000000</td>\n",
       "    </tr>\n",
       "  </tbody>\n",
       "</table>\n",
       "</div>"
      ],
      "text/plain": [
       "             SlNo      Budget  BoxOfficeCollection  YoutubeViews  \\\n",
       "count  149.000000  149.000000           149.000000  1.490000e+02   \n",
       "mean    75.000000   29.442953            55.667248  3.337920e+06   \n",
       "std     43.156691   28.237981            94.494531  3.504407e+06   \n",
       "min      1.000000    2.000000             0.010000  4.354000e+03   \n",
       "25%     38.000000   11.000000             8.780000  1.076591e+06   \n",
       "50%     75.000000   21.000000            28.000000  2.375050e+06   \n",
       "75%    112.000000   35.000000            57.450000  4.550051e+06   \n",
       "max    149.000000  150.000000           735.000000  2.317107e+07   \n",
       "\n",
       "        YoutubeLikes  YoutubeDislikes         Year  Genre_ Drama   \\\n",
       "count     149.000000       149.000000   149.000000     149.000000   \n",
       "mean     7877.536913      1207.818792  2013.630872       0.234899   \n",
       "std     12748.047191      1852.692938     0.629768       0.425366   \n",
       "min         1.000000         1.000000  2013.000000       0.000000   \n",
       "25%      1377.000000       189.000000  2013.000000       0.000000   \n",
       "50%      4111.000000       614.000000  2014.000000       0.000000   \n",
       "75%      9100.000000      1419.000000  2014.000000       0.000000   \n",
       "max    101275.000000     11888.000000  2015.000000       1.000000   \n",
       "\n",
       "       Genre_Action  Genre_Comedy  Genre_Romance  Genre_Thriller  \n",
       "count    149.000000    149.000000     149.000000      149.000000  \n",
       "mean       0.161074      0.241611       0.167785        0.194631  \n",
       "std        0.368839      0.429503       0.374936        0.397252  \n",
       "min        0.000000      0.000000       0.000000        0.000000  \n",
       "25%        0.000000      0.000000       0.000000        0.000000  \n",
       "50%        0.000000      0.000000       0.000000        0.000000  \n",
       "75%        0.000000      0.000000       0.000000        0.000000  \n",
       "max        1.000000      1.000000       1.000000        1.000000  "
      ]
     },
     "execution_count": 50,
     "metadata": {},
     "output_type": "execute_result"
    }
   ],
   "source": [
    "df_dummy.describe()"
   ]
  },
  {
   "cell_type": "code",
   "execution_count": 51,
   "id": "cf8171ee",
   "metadata": {},
   "outputs": [
    {
     "data": {
      "text/plain": [
       "array(['LW', 'N', 'HS', 'FS'], dtype=object)"
      ]
     },
     "execution_count": 51,
     "metadata": {},
     "output_type": "execute_result"
    }
   ],
   "source": [
    "df.ReleaseTime.unique() # ordinal way"
   ]
  },
  {
   "cell_type": "code",
   "execution_count": 58,
   "id": "fa2f5a25",
   "metadata": {},
   "outputs": [
    {
     "data": {
      "text/html": [
       "<div>\n",
       "<style scoped>\n",
       "    .dataframe tbody tr th:only-of-type {\n",
       "        vertical-align: middle;\n",
       "    }\n",
       "\n",
       "    .dataframe tbody tr th {\n",
       "        vertical-align: top;\n",
       "    }\n",
       "\n",
       "    .dataframe thead th {\n",
       "        text-align: right;\n",
       "    }\n",
       "</style>\n",
       "<table border=\"1\" class=\"dataframe\">\n",
       "  <thead>\n",
       "    <tr style=\"text-align: right;\">\n",
       "      <th></th>\n",
       "      <th>SlNo</th>\n",
       "      <th>Release Date</th>\n",
       "      <th>MovieName</th>\n",
       "      <th>ReleaseTime</th>\n",
       "      <th>Genre</th>\n",
       "      <th>Budget</th>\n",
       "      <th>BoxOfficeCollection</th>\n",
       "      <th>YoutubeViews</th>\n",
       "      <th>YoutubeLikes</th>\n",
       "      <th>YoutubeDislikes</th>\n",
       "      <th>Month_Name</th>\n",
       "      <th>Year</th>\n",
       "      <th>ordered_ReleaseTime</th>\n",
       "    </tr>\n",
       "  </thead>\n",
       "  <tbody>\n",
       "    <tr>\n",
       "      <th>0</th>\n",
       "      <td>1</td>\n",
       "      <td>2014-04-18</td>\n",
       "      <td>2 States</td>\n",
       "      <td>LW</td>\n",
       "      <td>Romance</td>\n",
       "      <td>36</td>\n",
       "      <td>104.00</td>\n",
       "      <td>8576361</td>\n",
       "      <td>26622</td>\n",
       "      <td>2527</td>\n",
       "      <td>April</td>\n",
       "      <td>2014</td>\n",
       "      <td>2.0</td>\n",
       "    </tr>\n",
       "    <tr>\n",
       "      <th>1</th>\n",
       "      <td>2</td>\n",
       "      <td>2013-01-04</td>\n",
       "      <td>Table No. 21</td>\n",
       "      <td>N</td>\n",
       "      <td>Thriller</td>\n",
       "      <td>10</td>\n",
       "      <td>12.00</td>\n",
       "      <td>1087320</td>\n",
       "      <td>1129</td>\n",
       "      <td>137</td>\n",
       "      <td>January</td>\n",
       "      <td>2013</td>\n",
       "      <td>3.0</td>\n",
       "    </tr>\n",
       "    <tr>\n",
       "      <th>2</th>\n",
       "      <td>3</td>\n",
       "      <td>2014-07-18</td>\n",
       "      <td>Amit Sahni Ki List</td>\n",
       "      <td>N</td>\n",
       "      <td>Comedy</td>\n",
       "      <td>10</td>\n",
       "      <td>4.00</td>\n",
       "      <td>572336</td>\n",
       "      <td>586</td>\n",
       "      <td>54</td>\n",
       "      <td>July</td>\n",
       "      <td>2014</td>\n",
       "      <td>3.0</td>\n",
       "    </tr>\n",
       "    <tr>\n",
       "      <th>3</th>\n",
       "      <td>4</td>\n",
       "      <td>2013-01-04</td>\n",
       "      <td>Rajdhani Express</td>\n",
       "      <td>N</td>\n",
       "      <td>Drama</td>\n",
       "      <td>7</td>\n",
       "      <td>0.35</td>\n",
       "      <td>42626</td>\n",
       "      <td>86</td>\n",
       "      <td>19</td>\n",
       "      <td>January</td>\n",
       "      <td>2013</td>\n",
       "      <td>3.0</td>\n",
       "    </tr>\n",
       "    <tr>\n",
       "      <th>4</th>\n",
       "      <td>5</td>\n",
       "      <td>2014-07-04</td>\n",
       "      <td>Bobby Jasoos</td>\n",
       "      <td>N</td>\n",
       "      <td>Comedy</td>\n",
       "      <td>18</td>\n",
       "      <td>10.80</td>\n",
       "      <td>3113427</td>\n",
       "      <td>4512</td>\n",
       "      <td>1224</td>\n",
       "      <td>July</td>\n",
       "      <td>2014</td>\n",
       "      <td>3.0</td>\n",
       "    </tr>\n",
       "    <tr>\n",
       "      <th>5</th>\n",
       "      <td>6</td>\n",
       "      <td>2014-05-30</td>\n",
       "      <td>Citylights</td>\n",
       "      <td>HS</td>\n",
       "      <td>Drama</td>\n",
       "      <td>7</td>\n",
       "      <td>35.00</td>\n",
       "      <td>1076591</td>\n",
       "      <td>1806</td>\n",
       "      <td>84</td>\n",
       "      <td>May</td>\n",
       "      <td>2014</td>\n",
       "      <td>1.0</td>\n",
       "    </tr>\n",
       "    <tr>\n",
       "      <th>6</th>\n",
       "      <td>7</td>\n",
       "      <td>2014-09-19</td>\n",
       "      <td>Daawat-E-Ishq</td>\n",
       "      <td>N</td>\n",
       "      <td>Comedy</td>\n",
       "      <td>30</td>\n",
       "      <td>24.60</td>\n",
       "      <td>3905050</td>\n",
       "      <td>8315</td>\n",
       "      <td>1373</td>\n",
       "      <td>September</td>\n",
       "      <td>2014</td>\n",
       "      <td>3.0</td>\n",
       "    </tr>\n",
       "    <tr>\n",
       "      <th>7</th>\n",
       "      <td>8</td>\n",
       "      <td>2013-01-11</td>\n",
       "      <td>Matru Ki Bijlee Ka Mandola</td>\n",
       "      <td>N</td>\n",
       "      <td>Comedy</td>\n",
       "      <td>33</td>\n",
       "      <td>40.00</td>\n",
       "      <td>2435283</td>\n",
       "      <td>4326</td>\n",
       "      <td>647</td>\n",
       "      <td>January</td>\n",
       "      <td>2013</td>\n",
       "      <td>3.0</td>\n",
       "    </tr>\n",
       "    <tr>\n",
       "      <th>8</th>\n",
       "      <td>9</td>\n",
       "      <td>2014-01-10</td>\n",
       "      <td>Dedh Ishqiya</td>\n",
       "      <td>LW</td>\n",
       "      <td>Comedy</td>\n",
       "      <td>31</td>\n",
       "      <td>27.00</td>\n",
       "      <td>2333067</td>\n",
       "      <td>2436</td>\n",
       "      <td>591</td>\n",
       "      <td>January</td>\n",
       "      <td>2014</td>\n",
       "      <td>2.0</td>\n",
       "    </tr>\n",
       "    <tr>\n",
       "      <th>9</th>\n",
       "      <td>10</td>\n",
       "      <td>2013-01-11</td>\n",
       "      <td>Gangoobai</td>\n",
       "      <td>N</td>\n",
       "      <td>Drama</td>\n",
       "      <td>2</td>\n",
       "      <td>0.01</td>\n",
       "      <td>4354</td>\n",
       "      <td>1</td>\n",
       "      <td>1</td>\n",
       "      <td>January</td>\n",
       "      <td>2013</td>\n",
       "      <td>3.0</td>\n",
       "    </tr>\n",
       "  </tbody>\n",
       "</table>\n",
       "</div>"
      ],
      "text/plain": [
       "   SlNo Release Date                   MovieName ReleaseTime     Genre  \\\n",
       "0     1   2014-04-18                    2 States          LW   Romance   \n",
       "1     2   2013-01-04                Table No. 21           N  Thriller   \n",
       "2     3   2014-07-18          Amit Sahni Ki List           N    Comedy   \n",
       "3     4   2013-01-04            Rajdhani Express           N    Drama    \n",
       "4     5   2014-07-04                Bobby Jasoos           N    Comedy   \n",
       "5     6   2014-05-30                  Citylights          HS    Drama    \n",
       "6     7   2014-09-19               Daawat-E-Ishq           N    Comedy   \n",
       "7     8   2013-01-11  Matru Ki Bijlee Ka Mandola           N    Comedy   \n",
       "8     9   2014-01-10                Dedh Ishqiya          LW    Comedy   \n",
       "9    10   2013-01-11                   Gangoobai           N    Drama    \n",
       "\n",
       "   Budget  BoxOfficeCollection  YoutubeViews  YoutubeLikes  YoutubeDislikes  \\\n",
       "0      36               104.00       8576361         26622             2527   \n",
       "1      10                12.00       1087320          1129              137   \n",
       "2      10                 4.00        572336           586               54   \n",
       "3       7                 0.35         42626            86               19   \n",
       "4      18                10.80       3113427          4512             1224   \n",
       "5       7                35.00       1076591          1806               84   \n",
       "6      30                24.60       3905050          8315             1373   \n",
       "7      33                40.00       2435283          4326              647   \n",
       "8      31                27.00       2333067          2436              591   \n",
       "9       2                 0.01          4354             1                1   \n",
       "\n",
       "  Month_Name  Year  ordered_ReleaseTime  \n",
       "0      April  2014                  2.0  \n",
       "1    January  2013                  3.0  \n",
       "2       July  2014                  3.0  \n",
       "3    January  2013                  3.0  \n",
       "4       July  2014                  3.0  \n",
       "5        May  2014                  1.0  \n",
       "6  September  2014                  3.0  \n",
       "7    January  2013                  3.0  \n",
       "8    January  2014                  2.0  \n",
       "9    January  2013                  3.0  "
      ]
     },
     "execution_count": 58,
     "metadata": {},
     "output_type": "execute_result"
    }
   ],
   "source": [
    "# FS, HS, LW, N- \n",
    "\n",
    "orderEncode= OrdinalEncoder(categories= [[\"FS\",\"HS\",\"LW\",\"N\"]])\n",
    "\n",
    "df['ordered_ReleaseTime']=orderEncode.fit_transform(df['ReleaseTime'].values.reshape(-1,1))\n",
    "\n",
    "df.head(10)"
   ]
  },
  {
   "cell_type": "code",
   "execution_count": null,
   "id": "10d41c93",
   "metadata": {},
   "outputs": [],
   "source": []
  },
  {
   "cell_type": "code",
   "execution_count": 55,
   "id": "99e73222",
   "metadata": {},
   "outputs": [
    {
     "name": "stdout",
     "output_type": "stream",
     "text": [
      "<class 'pandas.core.frame.DataFrame'>\n",
      "RangeIndex: 149 entries, 0 to 148\n",
      "Data columns (total 13 columns):\n",
      " #   Column               Non-Null Count  Dtype         \n",
      "---  ------               --------------  -----         \n",
      " 0   SlNo                 149 non-null    int64         \n",
      " 1   Release Date         149 non-null    datetime64[ns]\n",
      " 2   MovieName            149 non-null    object        \n",
      " 3   ReleaseTime          149 non-null    object        \n",
      " 4   Genre                149 non-null    object        \n",
      " 5   Budget               149 non-null    int64         \n",
      " 6   BoxOfficeCollection  149 non-null    float64       \n",
      " 7   YoutubeViews         149 non-null    int64         \n",
      " 8   YoutubeLikes         149 non-null    int64         \n",
      " 9   YoutubeDislikes      149 non-null    int64         \n",
      " 10  Month_Name           149 non-null    object        \n",
      " 11  Year                 149 non-null    int64         \n",
      " 12  ordered_ReleaseTime  149 non-null    float64       \n",
      "dtypes: datetime64[ns](1), float64(2), int64(6), object(4)\n",
      "memory usage: 15.3+ KB\n"
     ]
    }
   ],
   "source": [
    "df.info()"
   ]
  },
  {
   "cell_type": "code",
   "execution_count": 70,
   "id": "b29f0732",
   "metadata": {},
   "outputs": [
    {
     "data": {
      "text/plain": [
       "array(['Romance', 'Thriller', 'Comedy', ' Drama ', 'Action'], dtype=object)"
      ]
     },
     "execution_count": 70,
     "metadata": {},
     "output_type": "execute_result"
    }
   ],
   "source": [
    "df.Genre.unique()"
   ]
  },
  {
   "cell_type": "code",
   "execution_count": 71,
   "id": "75025807",
   "metadata": {},
   "outputs": [],
   "source": [
    "df['Genre']= df['Genre'].str.replace(' Drama ','Drama')"
   ]
  },
  {
   "cell_type": "code",
   "execution_count": 72,
   "id": "4b3266fc",
   "metadata": {},
   "outputs": [
    {
     "data": {
      "text/html": [
       "<div>\n",
       "<style scoped>\n",
       "    .dataframe tbody tr th:only-of-type {\n",
       "        vertical-align: middle;\n",
       "    }\n",
       "\n",
       "    .dataframe tbody tr th {\n",
       "        vertical-align: top;\n",
       "    }\n",
       "\n",
       "    .dataframe thead th {\n",
       "        text-align: right;\n",
       "    }\n",
       "</style>\n",
       "<table border=\"1\" class=\"dataframe\">\n",
       "  <thead>\n",
       "    <tr style=\"text-align: right;\">\n",
       "      <th></th>\n",
       "      <th>SlNo</th>\n",
       "      <th>Release Date</th>\n",
       "      <th>MovieName</th>\n",
       "      <th>ReleaseTime</th>\n",
       "      <th>Genre</th>\n",
       "      <th>Budget</th>\n",
       "      <th>BoxOfficeCollection</th>\n",
       "      <th>YoutubeViews</th>\n",
       "      <th>YoutubeLikes</th>\n",
       "      <th>YoutubeDislikes</th>\n",
       "      <th>Month_Name</th>\n",
       "      <th>Year</th>\n",
       "      <th>ordered_ReleaseTime</th>\n",
       "      <th>label_genre</th>\n",
       "    </tr>\n",
       "  </thead>\n",
       "  <tbody>\n",
       "    <tr>\n",
       "      <th>0</th>\n",
       "      <td>1</td>\n",
       "      <td>2014-04-18</td>\n",
       "      <td>2 States</td>\n",
       "      <td>LW</td>\n",
       "      <td>Romance</td>\n",
       "      <td>36</td>\n",
       "      <td>104.00</td>\n",
       "      <td>8576361</td>\n",
       "      <td>26622</td>\n",
       "      <td>2527</td>\n",
       "      <td>April</td>\n",
       "      <td>2014</td>\n",
       "      <td>2.0</td>\n",
       "      <td>3</td>\n",
       "    </tr>\n",
       "    <tr>\n",
       "      <th>1</th>\n",
       "      <td>2</td>\n",
       "      <td>2013-01-04</td>\n",
       "      <td>Table No. 21</td>\n",
       "      <td>N</td>\n",
       "      <td>Thriller</td>\n",
       "      <td>10</td>\n",
       "      <td>12.00</td>\n",
       "      <td>1087320</td>\n",
       "      <td>1129</td>\n",
       "      <td>137</td>\n",
       "      <td>January</td>\n",
       "      <td>2013</td>\n",
       "      <td>3.0</td>\n",
       "      <td>4</td>\n",
       "    </tr>\n",
       "    <tr>\n",
       "      <th>2</th>\n",
       "      <td>3</td>\n",
       "      <td>2014-07-18</td>\n",
       "      <td>Amit Sahni Ki List</td>\n",
       "      <td>N</td>\n",
       "      <td>Comedy</td>\n",
       "      <td>10</td>\n",
       "      <td>4.00</td>\n",
       "      <td>572336</td>\n",
       "      <td>586</td>\n",
       "      <td>54</td>\n",
       "      <td>July</td>\n",
       "      <td>2014</td>\n",
       "      <td>3.0</td>\n",
       "      <td>1</td>\n",
       "    </tr>\n",
       "    <tr>\n",
       "      <th>3</th>\n",
       "      <td>4</td>\n",
       "      <td>2013-01-04</td>\n",
       "      <td>Rajdhani Express</td>\n",
       "      <td>N</td>\n",
       "      <td>Drama</td>\n",
       "      <td>7</td>\n",
       "      <td>0.35</td>\n",
       "      <td>42626</td>\n",
       "      <td>86</td>\n",
       "      <td>19</td>\n",
       "      <td>January</td>\n",
       "      <td>2013</td>\n",
       "      <td>3.0</td>\n",
       "      <td>2</td>\n",
       "    </tr>\n",
       "    <tr>\n",
       "      <th>4</th>\n",
       "      <td>5</td>\n",
       "      <td>2014-07-04</td>\n",
       "      <td>Bobby Jasoos</td>\n",
       "      <td>N</td>\n",
       "      <td>Comedy</td>\n",
       "      <td>18</td>\n",
       "      <td>10.80</td>\n",
       "      <td>3113427</td>\n",
       "      <td>4512</td>\n",
       "      <td>1224</td>\n",
       "      <td>July</td>\n",
       "      <td>2014</td>\n",
       "      <td>3.0</td>\n",
       "      <td>1</td>\n",
       "    </tr>\n",
       "  </tbody>\n",
       "</table>\n",
       "</div>"
      ],
      "text/plain": [
       "   SlNo Release Date           MovieName ReleaseTime     Genre  Budget  \\\n",
       "0     1   2014-04-18            2 States          LW   Romance      36   \n",
       "1     2   2013-01-04        Table No. 21           N  Thriller      10   \n",
       "2     3   2014-07-18  Amit Sahni Ki List           N    Comedy      10   \n",
       "3     4   2013-01-04    Rajdhani Express           N     Drama       7   \n",
       "4     5   2014-07-04        Bobby Jasoos           N    Comedy      18   \n",
       "\n",
       "   BoxOfficeCollection  YoutubeViews  YoutubeLikes  YoutubeDislikes  \\\n",
       "0               104.00       8576361         26622             2527   \n",
       "1                12.00       1087320          1129              137   \n",
       "2                 4.00        572336           586               54   \n",
       "3                 0.35         42626            86               19   \n",
       "4                10.80       3113427          4512             1224   \n",
       "\n",
       "  Month_Name  Year  ordered_ReleaseTime  label_genre  \n",
       "0      April  2014                  2.0            3  \n",
       "1    January  2013                  3.0            4  \n",
       "2       July  2014                  3.0            1  \n",
       "3    January  2013                  3.0            2  \n",
       "4       July  2014                  3.0            1  "
      ]
     },
     "execution_count": 72,
     "metadata": {},
     "output_type": "execute_result"
    }
   ],
   "source": [
    "#label encoder - genre \n",
    "# Action, Comedy, Drama, Romance, Thriller - 0,1,2,3,4\n",
    "\n",
    "labelencoder= LabelEncoder()\n",
    "\n",
    "df['label_genre']=labelencoder.fit_transform(df['Genre'])\n",
    "\n",
    "df.head()"
   ]
  }
 ],
 "metadata": {
  "kernelspec": {
   "display_name": "Python 3 (ipykernel)",
   "language": "python",
   "name": "python3"
  },
  "language_info": {
   "codemirror_mode": {
    "name": "ipython",
    "version": 3
   },
   "file_extension": ".py",
   "mimetype": "text/x-python",
   "name": "python",
   "nbconvert_exporter": "python",
   "pygments_lexer": "ipython3",
   "version": "3.9.12"
  }
 },
 "nbformat": 4,
 "nbformat_minor": 5
}
